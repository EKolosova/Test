{
 "cells": [
  {
   "cell_type": "code",
   "execution_count": 1,
   "id": "9b72cd69",
   "metadata": {},
   "outputs": [],
   "source": [
    "import pandas as pd\n",
    "import matplotlib.pyplot as plt\n",
    "from scipy.stats import ttest_ind\n",
    "import seaborn as sns\n",
    "from scipy.stats import mannwhitneyu\n",
    "from scipy.stats import pearsonr\n",
    "from scipy.stats import spearmanr\n",
    "import numpy as np"
   ]
  },
  {
   "cell_type": "code",
   "execution_count": 2,
   "id": "caca48a8",
   "metadata": {},
   "outputs": [
    {
     "data": {
      "text/html": [
       "<div>\n",
       "<style scoped>\n",
       "    .dataframe tbody tr th:only-of-type {\n",
       "        vertical-align: middle;\n",
       "    }\n",
       "\n",
       "    .dataframe tbody tr th {\n",
       "        vertical-align: top;\n",
       "    }\n",
       "\n",
       "    .dataframe thead th {\n",
       "        text-align: right;\n",
       "    }\n",
       "</style>\n",
       "<table border=\"1\" class=\"dataframe\">\n",
       "  <thead>\n",
       "    <tr style=\"text-align: right;\">\n",
       "      <th></th>\n",
       "      <th>id_client</th>\n",
       "      <th>id_group</th>\n",
       "      <th>sum_pay</th>\n",
       "      <th>id_point</th>\n",
       "      <th>months_reg</th>\n",
       "    </tr>\n",
       "  </thead>\n",
       "  <tbody>\n",
       "    <tr>\n",
       "      <th>0</th>\n",
       "      <td>1420218</td>\n",
       "      <td>test</td>\n",
       "      <td>3288.0</td>\n",
       "      <td>1199.0</td>\n",
       "      <td>8</td>\n",
       "    </tr>\n",
       "    <tr>\n",
       "      <th>1</th>\n",
       "      <td>1390221</td>\n",
       "      <td>control</td>\n",
       "      <td>1267.0</td>\n",
       "      <td>1182.0</td>\n",
       "      <td>11</td>\n",
       "    </tr>\n",
       "    <tr>\n",
       "      <th>2</th>\n",
       "      <td>1363404</td>\n",
       "      <td>control</td>\n",
       "      <td>4259.0</td>\n",
       "      <td>1178.0</td>\n",
       "      <td>2</td>\n",
       "    </tr>\n",
       "    <tr>\n",
       "      <th>3</th>\n",
       "      <td>1370042</td>\n",
       "      <td>test</td>\n",
       "      <td>7211.0</td>\n",
       "      <td>1179.0</td>\n",
       "      <td>3</td>\n",
       "    </tr>\n",
       "    <tr>\n",
       "      <th>4</th>\n",
       "      <td>1360376</td>\n",
       "      <td>control</td>\n",
       "      <td>760.0</td>\n",
       "      <td>1178.0</td>\n",
       "      <td>14</td>\n",
       "    </tr>\n",
       "    <tr>\n",
       "      <th>...</th>\n",
       "      <td>...</td>\n",
       "      <td>...</td>\n",
       "      <td>...</td>\n",
       "      <td>...</td>\n",
       "      <td>...</td>\n",
       "    </tr>\n",
       "    <tr>\n",
       "      <th>10971</th>\n",
       "      <td>1359021</td>\n",
       "      <td>control</td>\n",
       "      <td>799.0</td>\n",
       "      <td>1178.0</td>\n",
       "      <td>3</td>\n",
       "    </tr>\n",
       "    <tr>\n",
       "      <th>10972</th>\n",
       "      <td>1363347</td>\n",
       "      <td>control</td>\n",
       "      <td>4825.0</td>\n",
       "      <td>1178.0</td>\n",
       "      <td>6</td>\n",
       "    </tr>\n",
       "    <tr>\n",
       "      <th>10973</th>\n",
       "      <td>1373031</td>\n",
       "      <td>test</td>\n",
       "      <td>673.0</td>\n",
       "      <td>1179.0</td>\n",
       "      <td>1</td>\n",
       "    </tr>\n",
       "    <tr>\n",
       "      <th>10974</th>\n",
       "      <td>1370292</td>\n",
       "      <td>test</td>\n",
       "      <td>1120.0</td>\n",
       "      <td>1179.0</td>\n",
       "      <td>1</td>\n",
       "    </tr>\n",
       "    <tr>\n",
       "      <th>10975</th>\n",
       "      <td>1370038</td>\n",
       "      <td>test</td>\n",
       "      <td>5348.0</td>\n",
       "      <td>1179.0</td>\n",
       "      <td>8</td>\n",
       "    </tr>\n",
       "  </tbody>\n",
       "</table>\n",
       "<p>10976 rows × 5 columns</p>\n",
       "</div>"
      ],
      "text/plain": [
       "       id_client id_group  sum_pay  id_point  months_reg\n",
       "0        1420218     test   3288.0    1199.0           8\n",
       "1        1390221  control   1267.0    1182.0          11\n",
       "2        1363404  control   4259.0    1178.0           2\n",
       "3        1370042     test   7211.0    1179.0           3\n",
       "4        1360376  control    760.0    1178.0          14\n",
       "...          ...      ...      ...       ...         ...\n",
       "10971    1359021  control    799.0    1178.0           3\n",
       "10972    1363347  control   4825.0    1178.0           6\n",
       "10973    1373031     test    673.0    1179.0           1\n",
       "10974    1370292     test   1120.0    1179.0           1\n",
       "10975    1370038     test   5348.0    1179.0           8\n",
       "\n",
       "[10976 rows x 5 columns]"
      ]
     },
     "execution_count": 2,
     "metadata": {},
     "output_type": "execute_result"
    }
   ],
   "source": [
    "skycross_experiment = pd.read_csv('Dataset_AB_TEST.csv', sep = ';')\n",
    "skycross_experiment"
   ]
  },
  {
   "cell_type": "code",
   "execution_count": 3,
   "id": "9a1d771d",
   "metadata": {},
   "outputs": [
    {
     "name": "stdout",
     "output_type": "stream",
     "text": [
      "<class 'pandas.core.frame.DataFrame'>\n",
      "RangeIndex: 10976 entries, 0 to 10975\n",
      "Data columns (total 5 columns):\n",
      " #   Column      Non-Null Count  Dtype  \n",
      "---  ------      --------------  -----  \n",
      " 0   id_client   10976 non-null  int64  \n",
      " 1   id_group    10902 non-null  object \n",
      " 2   sum_pay     10849 non-null  float64\n",
      " 3   id_point    10895 non-null  float64\n",
      " 4   months_reg  10976 non-null  int64  \n",
      "dtypes: float64(2), int64(2), object(1)\n",
      "memory usage: 428.9+ KB\n"
     ]
    }
   ],
   "source": [
    "skycross_experiment.info()"
   ]
  },
  {
   "cell_type": "code",
   "execution_count": 4,
   "id": "df94dccf",
   "metadata": {},
   "outputs": [
    {
     "name": "stdout",
     "output_type": "stream",
     "text": [
      "<class 'pandas.core.frame.DataFrame'>\n",
      "Int64Index: 10840 entries, 0 to 10975\n",
      "Data columns (total 5 columns):\n",
      " #   Column      Non-Null Count  Dtype  \n",
      "---  ------      --------------  -----  \n",
      " 0   id_client   10840 non-null  int64  \n",
      " 1   id_group    10840 non-null  object \n",
      " 2   sum_pay     10840 non-null  float64\n",
      " 3   id_point    10840 non-null  float64\n",
      " 4   months_reg  10840 non-null  int64  \n",
      "dtypes: float64(2), int64(2), object(1)\n",
      "memory usage: 508.1+ KB\n"
     ]
    }
   ],
   "source": [
    "skycross_experiment_new = skycross_experiment.dropna()\n",
    "skycross_experiment_new.info()"
   ]
  },
  {
   "cell_type": "code",
   "execution_count": 5,
   "id": "215b194a",
   "metadata": {},
   "outputs": [
    {
     "data": {
      "text/plain": [
       "id_group\n",
       "control    5171\n",
       "test       5669\n",
       "Name: id_client, dtype: int64"
      ]
     },
     "execution_count": 5,
     "metadata": {},
     "output_type": "execute_result"
    }
   ],
   "source": [
    "skycross_experiment_new.groupby('id_group')['id_client'].count()"
   ]
  },
  {
   "cell_type": "code",
   "execution_count": 6,
   "id": "5962db81",
   "metadata": {},
   "outputs": [],
   "source": [
    "def statistical_analysis(r, q=[0.1,0.25,0.3,0.4,0.5,0.6,0.75,0.9]):\n",
    "    if type(r) is not list and type(r) is not tuple:\n",
    "        print('Нужен список или кортеж!')\n",
    "        return\n",
    "    if len(r) <= 4:\n",
    "        print('Требуется более длинный ряд')\n",
    "        return\n",
    "    r = pd.Series(r)\n",
    "    avg_r = r.mean()\n",
    "    var_r = r.var()\n",
    "    std_r = r.std()\n",
    "    print ('Среднее значение = ', avg_r)\n",
    "    print ('Дисперсия = ', var_r)\n",
    "    print ('Ст. отклонение = ', std_r)\n",
    "    \n",
    "    qs = np.quantile(r, q)\n",
    "    for i in range (len(q)):\n",
    "        if q[i] == 0.5:\n",
    "            print('Медиана = ', qs[i])\n",
    "        if q[i] == 0.25:\n",
    "            print('Первый квартиль = ', qs[i])\n",
    "        if q[i] == 0.75:\n",
    "            print('Третий квартиль = ', qs[i])\n",
    "        elif q[i]*100 % 10==0:\n",
    "            print(\"Дециль номер\",q[i]*10,\" = \",qs[i])\n",
    "        print(\"Квантиль \",q[i],\" = \",qs[i])\n",
    "            \n",
    "    sns.histplot(r)\n",
    "        \n",
    "    return avg_r, var_r, std_r, qs"
   ]
  },
  {
   "cell_type": "code",
   "execution_count": 7,
   "id": "d1dd0d98",
   "metadata": {},
   "outputs": [
    {
     "name": "stdout",
     "output_type": "stream",
     "text": [
      "Среднее значение =  3568.7580258302582\n",
      "Дисперсия =  8568932.941996625\n",
      "Ст. отклонение =  2927.27397795229\n",
      "Дециль номер 1.0  =  410.0\n",
      "Квантиль  0.1  =  410.0\n",
      "Первый квартиль =  1250.75\n",
      "Квантиль  0.25  =  1250.75\n",
      "Дециль номер 3.0  =  1590.0\n",
      "Квантиль  0.3  =  1590.0\n",
      "Дециль номер 4.0  =  2329.6000000000004\n",
      "Квантиль  0.4  =  2329.6000000000004\n",
      "Медиана =  3173.5\n",
      "Дециль номер 5.0  =  3173.5\n",
      "Квантиль  0.5  =  3173.5\n",
      "Дециль номер 6.0  =  3934.0\n",
      "Квантиль  0.6  =  3934.0\n",
      "Третий квартиль =  5356.5\n",
      "Квантиль  0.75  =  5356.5\n",
      "Дециль номер 9.0  =  7088.200000000001\n",
      "Квантиль  0.9  =  7088.200000000001\n"
     ]
    },
    {
     "data": {
      "text/plain": [
       "(3568.7580258302582,\n",
       " 8568932.941996625,\n",
       " 2927.27397795229,\n",
       " array([ 410.  , 1250.75, 1590.  , 2329.6 , 3173.5 , 3934.  , 5356.5 ,\n",
       "        7088.2 ]))"
      ]
     },
     "execution_count": 7,
     "metadata": {},
     "output_type": "execute_result"
    },
    {
     "data": {
      "image/png": "[encoded data removed]",
      "text/plain": [
       "<Figure size 432x288 with 1 Axes>"
      ]
     },
     "metadata": {
      "needs_background": "light"
     },
     "output_type": "display_data"
    }
   ],
   "source": [
    "statistical_analysis(skycross_experiment_new['sum_pay'].values.tolist())"
   ]
  },
  {
   "cell_type": "code",
   "execution_count": 27,
   "id": "1f08c130",
   "metadata": {
    "scrolled": true
   },
   "outputs": [
    {
     "name": "stdout",
     "output_type": "stream",
     "text": [
      "Среднее значение =  3422.1146473106273\n",
      "Дисперсия =  5970737.65014\n",
      "Ст. отклонение =  2443.509289963924\n",
      "Дециль номер 1.0  =  407.5\n",
      "Квантиль  0.1  =  407.5\n",
      "Первый квартиль =  1234.25\n",
      "Квантиль  0.25  =  1234.25\n",
      "Дециль номер 3.0  =  1573.5\n",
      "Квантиль  0.3  =  1573.5\n",
      "Дециль номер 4.0  =  2299.0\n",
      "Квантиль  0.4  =  2299.0\n",
      "Медиана =  3151.5\n",
      "Дециль номер 5.0  =  3151.5\n",
      "Квантиль  0.5  =  3151.5\n",
      "Дециль номер 6.0  =  3891.0\n",
      "Квантиль  0.6  =  3891.0\n",
      "Третий квартиль =  5260.75\n",
      "Квантиль  0.75  =  5260.75\n",
      "Дециль номер 9.0  =  6989.5\n",
      "Квантиль  0.9  =  6989.5\n"
     ]
    },
    {
     "data": {
      "text/plain": [
       "(3422.1146473106273,\n",
       " 5970737.65014,\n",
       " 2443.509289963924,\n",
       " array([ 407.5 , 1234.25, 1573.5 , 2299.  , 3151.5 , 3891.  , 5260.75,\n",
       "        6989.5 ]))"
      ]
     },
     "execution_count": 27,
     "metadata": {},
     "output_type": "execute_result"
    },
    {
     "data": {
      "image/png": "[encoded data removed]",
      "text/plain": [
       "<Figure size 432x288 with 1 Axes>"
      ]
     },
     "metadata": {
      "needs_background": "light"
     },
     "output_type": "display_data"
    }
   ],
   "source": [
    "skycross_experiment_new1 = skycross_experiment_new[skycross_experiment_new['sum_pay'] < 10000]\n",
    "skycross_experiment_new1\n",
    "statistical_analysis(skycross_experiment_new1['sum_pay'].values.tolist())"
   ]
  },
  {
   "cell_type": "code",
   "execution_count": 9,
   "id": "4a15ff10",
   "metadata": {},
   "outputs": [
    {
     "data": {
      "text/html": [
       "<div>\n",
       "<style scoped>\n",
       "    .dataframe tbody tr th:only-of-type {\n",
       "        vertical-align: middle;\n",
       "    }\n",
       "\n",
       "    .dataframe tbody tr th {\n",
       "        vertical-align: top;\n",
       "    }\n",
       "\n",
       "    .dataframe thead th {\n",
       "        text-align: right;\n",
       "    }\n",
       "</style>\n",
       "<table border=\"1\" class=\"dataframe\">\n",
       "  <thead>\n",
       "    <tr style=\"text-align: right;\">\n",
       "      <th></th>\n",
       "      <th>id_client</th>\n",
       "      <th>id_group</th>\n",
       "      <th>sum_pay</th>\n",
       "      <th>id_point</th>\n",
       "      <th>months_reg</th>\n",
       "    </tr>\n",
       "  </thead>\n",
       "  <tbody>\n",
       "    <tr>\n",
       "      <th>1</th>\n",
       "      <td>1390221</td>\n",
       "      <td>control</td>\n",
       "      <td>1267.0</td>\n",
       "      <td>1182.0</td>\n",
       "      <td>11</td>\n",
       "    </tr>\n",
       "    <tr>\n",
       "      <th>2</th>\n",
       "      <td>1363404</td>\n",
       "      <td>control</td>\n",
       "      <td>4259.0</td>\n",
       "      <td>1178.0</td>\n",
       "      <td>2</td>\n",
       "    </tr>\n",
       "    <tr>\n",
       "      <th>4</th>\n",
       "      <td>1360376</td>\n",
       "      <td>control</td>\n",
       "      <td>760.0</td>\n",
       "      <td>1178.0</td>\n",
       "      <td>14</td>\n",
       "    </tr>\n",
       "    <tr>\n",
       "      <th>7</th>\n",
       "      <td>1373231</td>\n",
       "      <td>control</td>\n",
       "      <td>4008.0</td>\n",
       "      <td>1179.0</td>\n",
       "      <td>0</td>\n",
       "    </tr>\n",
       "    <tr>\n",
       "      <th>9</th>\n",
       "      <td>1373288</td>\n",
       "      <td>control</td>\n",
       "      <td>4109.0</td>\n",
       "      <td>1179.0</td>\n",
       "      <td>8</td>\n",
       "    </tr>\n",
       "    <tr>\n",
       "      <th>...</th>\n",
       "      <td>...</td>\n",
       "      <td>...</td>\n",
       "      <td>...</td>\n",
       "      <td>...</td>\n",
       "      <td>...</td>\n",
       "    </tr>\n",
       "    <tr>\n",
       "      <th>10966</th>\n",
       "      <td>1391333</td>\n",
       "      <td>control</td>\n",
       "      <td>2704.0</td>\n",
       "      <td>1182.0</td>\n",
       "      <td>5</td>\n",
       "    </tr>\n",
       "    <tr>\n",
       "      <th>10969</th>\n",
       "      <td>1389984</td>\n",
       "      <td>control</td>\n",
       "      <td>1818.0</td>\n",
       "      <td>1182.0</td>\n",
       "      <td>2</td>\n",
       "    </tr>\n",
       "    <tr>\n",
       "      <th>10970</th>\n",
       "      <td>1362847</td>\n",
       "      <td>control</td>\n",
       "      <td>2055.0</td>\n",
       "      <td>1178.0</td>\n",
       "      <td>4</td>\n",
       "    </tr>\n",
       "    <tr>\n",
       "      <th>10971</th>\n",
       "      <td>1359021</td>\n",
       "      <td>control</td>\n",
       "      <td>799.0</td>\n",
       "      <td>1178.0</td>\n",
       "      <td>3</td>\n",
       "    </tr>\n",
       "    <tr>\n",
       "      <th>10972</th>\n",
       "      <td>1363347</td>\n",
       "      <td>control</td>\n",
       "      <td>4825.0</td>\n",
       "      <td>1178.0</td>\n",
       "      <td>6</td>\n",
       "    </tr>\n",
       "  </tbody>\n",
       "</table>\n",
       "<p>5140 rows × 5 columns</p>\n",
       "</div>"
      ],
      "text/plain": [
       "       id_client id_group  sum_pay  id_point  months_reg\n",
       "1        1390221  control   1267.0    1182.0          11\n",
       "2        1363404  control   4259.0    1178.0           2\n",
       "4        1360376  control    760.0    1178.0          14\n",
       "7        1373231  control   4008.0    1179.0           0\n",
       "9        1373288  control   4109.0    1179.0           8\n",
       "...          ...      ...      ...       ...         ...\n",
       "10966    1391333  control   2704.0    1182.0           5\n",
       "10969    1389984  control   1818.0    1182.0           2\n",
       "10970    1362847  control   2055.0    1178.0           4\n",
       "10971    1359021  control    799.0    1178.0           3\n",
       "10972    1363347  control   4825.0    1178.0           6\n",
       "\n",
       "[5140 rows x 5 columns]"
      ]
     },
     "execution_count": 9,
     "metadata": {},
     "output_type": "execute_result"
    }
   ],
   "source": [
    "skycross_experiment_new1_c = skycross_experiment_new1.loc[skycross_experiment_new1['id_group'] == 'control']\n",
    "skycross_experiment_new1_c"
   ]
  },
  {
   "cell_type": "code",
   "execution_count": 10,
   "id": "ef6bc875",
   "metadata": {},
   "outputs": [
    {
     "data": {
      "text/html": [
       "<div>\n",
       "<style scoped>\n",
       "    .dataframe tbody tr th:only-of-type {\n",
       "        vertical-align: middle;\n",
       "    }\n",
       "\n",
       "    .dataframe tbody tr th {\n",
       "        vertical-align: top;\n",
       "    }\n",
       "\n",
       "    .dataframe thead th {\n",
       "        text-align: right;\n",
       "    }\n",
       "</style>\n",
       "<table border=\"1\" class=\"dataframe\">\n",
       "  <thead>\n",
       "    <tr style=\"text-align: right;\">\n",
       "      <th></th>\n",
       "      <th>id_client</th>\n",
       "      <th>id_group</th>\n",
       "      <th>sum_pay</th>\n",
       "      <th>id_point</th>\n",
       "      <th>months_reg</th>\n",
       "    </tr>\n",
       "  </thead>\n",
       "  <tbody>\n",
       "    <tr>\n",
       "      <th>0</th>\n",
       "      <td>1420218</td>\n",
       "      <td>test</td>\n",
       "      <td>3288.0</td>\n",
       "      <td>1199.0</td>\n",
       "      <td>8</td>\n",
       "    </tr>\n",
       "    <tr>\n",
       "      <th>3</th>\n",
       "      <td>1370042</td>\n",
       "      <td>test</td>\n",
       "      <td>7211.0</td>\n",
       "      <td>1179.0</td>\n",
       "      <td>3</td>\n",
       "    </tr>\n",
       "    <tr>\n",
       "      <th>5</th>\n",
       "      <td>1371160</td>\n",
       "      <td>test</td>\n",
       "      <td>218.0</td>\n",
       "      <td>1179.0</td>\n",
       "      <td>5</td>\n",
       "    </tr>\n",
       "    <tr>\n",
       "      <th>6</th>\n",
       "      <td>1372110</td>\n",
       "      <td>test</td>\n",
       "      <td>1295.0</td>\n",
       "      <td>1179.0</td>\n",
       "      <td>1</td>\n",
       "    </tr>\n",
       "    <tr>\n",
       "      <th>8</th>\n",
       "      <td>1372555</td>\n",
       "      <td>test</td>\n",
       "      <td>4708.0</td>\n",
       "      <td>1179.0</td>\n",
       "      <td>9</td>\n",
       "    </tr>\n",
       "    <tr>\n",
       "      <th>...</th>\n",
       "      <td>...</td>\n",
       "      <td>...</td>\n",
       "      <td>...</td>\n",
       "      <td>...</td>\n",
       "      <td>...</td>\n",
       "    </tr>\n",
       "    <tr>\n",
       "      <th>10967</th>\n",
       "      <td>1359429</td>\n",
       "      <td>test</td>\n",
       "      <td>3371.0</td>\n",
       "      <td>1178.0</td>\n",
       "      <td>3</td>\n",
       "    </tr>\n",
       "    <tr>\n",
       "      <th>10968</th>\n",
       "      <td>1359869</td>\n",
       "      <td>test</td>\n",
       "      <td>6590.0</td>\n",
       "      <td>1178.0</td>\n",
       "      <td>5</td>\n",
       "    </tr>\n",
       "    <tr>\n",
       "      <th>10973</th>\n",
       "      <td>1373031</td>\n",
       "      <td>test</td>\n",
       "      <td>673.0</td>\n",
       "      <td>1179.0</td>\n",
       "      <td>1</td>\n",
       "    </tr>\n",
       "    <tr>\n",
       "      <th>10974</th>\n",
       "      <td>1370292</td>\n",
       "      <td>test</td>\n",
       "      <td>1120.0</td>\n",
       "      <td>1179.0</td>\n",
       "      <td>1</td>\n",
       "    </tr>\n",
       "    <tr>\n",
       "      <th>10975</th>\n",
       "      <td>1370038</td>\n",
       "      <td>test</td>\n",
       "      <td>5348.0</td>\n",
       "      <td>1179.0</td>\n",
       "      <td>8</td>\n",
       "    </tr>\n",
       "  </tbody>\n",
       "</table>\n",
       "<p>5606 rows × 5 columns</p>\n",
       "</div>"
      ],
      "text/plain": [
       "       id_client id_group  sum_pay  id_point  months_reg\n",
       "0        1420218     test   3288.0    1199.0           8\n",
       "3        1370042     test   7211.0    1179.0           3\n",
       "5        1371160     test    218.0    1179.0           5\n",
       "6        1372110     test   1295.0    1179.0           1\n",
       "8        1372555     test   4708.0    1179.0           9\n",
       "...          ...      ...      ...       ...         ...\n",
       "10967    1359429     test   3371.0    1178.0           3\n",
       "10968    1359869     test   6590.0    1178.0           5\n",
       "10973    1373031     test    673.0    1179.0           1\n",
       "10974    1370292     test   1120.0    1179.0           1\n",
       "10975    1370038     test   5348.0    1179.0           8\n",
       "\n",
       "[5606 rows x 5 columns]"
      ]
     },
     "execution_count": 10,
     "metadata": {},
     "output_type": "execute_result"
    }
   ],
   "source": [
    "skycross_experiment_new1_t = skycross_experiment_new1.loc[skycross_experiment_new1['id_group'] == 'test']\n",
    "skycross_experiment_new1_t"
   ]
  },
  {
   "cell_type": "code",
   "execution_count": 11,
   "id": "aa69a876",
   "metadata": {},
   "outputs": [
    {
     "data": {
      "text/plain": [
       "<AxesSubplot:xlabel='sum_pay', ylabel='Count'>"
      ]
     },
     "execution_count": 11,
     "metadata": {},
     "output_type": "execute_result"
    },
    {
     "data": {
      "image/png": "[encoded data removed]",
      "text/plain": [
       "<Figure size 432x288 with 1 Axes>"
      ]
     },
     "metadata": {
      "needs_background": "light"
     },
     "output_type": "display_data"
    }
   ],
   "source": [
    "sns.histplot(skycross_experiment_new1_c['sum_pay'], bins = 10)\n",
    "sns.histplot(skycross_experiment_new1_t['sum_pay'], color = 'yellow', bins = 10)"
   ]
  },
  {
   "cell_type": "code",
   "execution_count": 12,
   "id": "0c9a6122",
   "metadata": {},
   "outputs": [],
   "source": [
    "def show_hist (df1, df2): \n",
    "    for segment in (df1, df2): \n",
    "        print (sns.histplot (df1, bins = 10) and sns.histplot (df2, color = 'yellow', bins = 10))        "
   ]
  },
  {
   "cell_type": "code",
   "execution_count": 13,
   "id": "1abb0209",
   "metadata": {},
   "outputs": [
    {
     "name": "stdout",
     "output_type": "stream",
     "text": [
      "AxesSubplot(0.125,0.125;0.775x0.755)\n",
      "AxesSubplot(0.125,0.125;0.775x0.755)\n"
     ]
    },
    {
     "data": {
      "image/png": "[encoded data removed]",
      "text/plain": [
       "<Figure size 432x288 with 1 Axes>"
      ]
     },
     "metadata": {
      "needs_background": "light"
     },
     "output_type": "display_data"
    }
   ],
   "source": [
    "show_hist(skycross_experiment_new1_c['sum_pay'], skycross_experiment_new1_t['sum_pay'])"
   ]
  },
  {
   "cell_type": "code",
   "execution_count": 14,
   "id": "eb4a3642",
   "metadata": {},
   "outputs": [],
   "source": [
    "def mann_whitney_func (r1, r2, alpha=0.05):\n",
    "    s, p = mannwhitneyu(r1, r2, alternative = 'two-sided')\n",
    "    print(f'Статистика = {s}, p_value = {p}')\n",
    "    if p <= alpha:\n",
    "        print('Распределения не равны')\n",
    "    else:\n",
    "        print('Распределения равны')"
   ]
  },
  {
   "cell_type": "code",
   "execution_count": 15,
   "id": "e19725fd",
   "metadata": {},
   "outputs": [],
   "source": [
    "def test_calc(r1, r2, alpha = 0.05):\n",
    "    s, p = ttest_ind(r1, r2)\n",
    "    if p <= alpha:\n",
    "        print('Нулевая гипотеза о равенстве средних не принимается')\n",
    "    else:\n",
    "        print('Нулевая гипотеза о равенстве средних принимается')\n",
    "    return s, p"
   ]
  },
  {
   "cell_type": "code",
   "execution_count": 16,
   "id": "737e7055",
   "metadata": {},
   "outputs": [
    {
     "name": "stdout",
     "output_type": "stream",
     "text": [
      "Нулевая гипотеза о равенстве средних не принимается\n"
     ]
    },
    {
     "data": {
      "text/plain": [
       "(-3.356159831664094, 0.0007930687003032978)"
      ]
     },
     "execution_count": 16,
     "metadata": {},
     "output_type": "execute_result"
    }
   ],
   "source": [
    "test_calc(skycross_experiment_new1_c['sum_pay'], skycross_experiment_new1_t['sum_pay'])"
   ]
  },
  {
   "cell_type": "code",
   "execution_count": 17,
   "id": "c7845091",
   "metadata": {},
   "outputs": [
    {
     "name": "stdout",
     "output_type": "stream",
     "text": [
      "Статистика = 14141330.5, p_value = 0.09764037292812035\n",
      "Распределения равны\n"
     ]
    }
   ],
   "source": [
    "mann_whitney_func(skycross_experiment_new1_c['sum_pay'], skycross_experiment_new1_t['sum_pay'])"
   ]
  },
  {
   "cell_type": "markdown",
   "id": "286f1fea",
   "metadata": {},
   "source": [
    "### Вывод: данные двух тестов противоречат друг другу. Успех АБ-теста не подтвержден"
   ]
  },
  {
   "cell_type": "code",
   "execution_count": 18,
   "id": "2a3fb09f",
   "metadata": {},
   "outputs": [
    {
     "data": {
      "text/plain": [
       "array([1199., 1182., 1178., 1179., 1186., 1188.])"
      ]
     },
     "execution_count": 18,
     "metadata": {},
     "output_type": "execute_result"
    }
   ],
   "source": [
    "skycross_experiment_new1['id_point'].unique()"
   ]
  },
  {
   "cell_type": "code",
   "execution_count": 19,
   "id": "17a0cef0",
   "metadata": {},
   "outputs": [
    {
     "name": "stdout",
     "output_type": "stream",
     "text": [
      "AxesSubplot(0.125,0.125;0.775x0.755)\n",
      "AxesSubplot(0.125,0.125;0.775x0.755)\n"
     ]
    },
    {
     "data": {
      "image/png": "[encoded data removed]",
      "text/plain": [
       "<Figure size 432x288 with 1 Axes>"
      ]
     },
     "metadata": {
      "needs_background": "light"
     },
     "output_type": "display_data"
    }
   ],
   "source": [
    "show_hist (skycross_experiment_new1_c['id_point'], skycross_experiment_new1_t['id_point'])    "
   ]
  },
  {
   "cell_type": "code",
   "execution_count": 24,
   "id": "5d9100ae",
   "metadata": {},
   "outputs": [
    {
     "name": "stdout",
     "output_type": "stream",
     "text": [
      "Анализ точки 1199.0\n",
      "AxesSubplot(0.125,0.125;0.775x0.755)\n",
      "AxesSubplot(0.125,0.125;0.775x0.755)\n",
      "1199.0\n"
     ]
    },
    {
     "data": {
      "image/png": "[encoded data removed]",
      "text/plain": [
       "<Figure size 432x288 with 1 Axes>"
      ]
     },
     "metadata": {
      "needs_background": "light"
     },
     "output_type": "display_data"
    },
    {
     "name": "stderr",
     "output_type": "stream",
     "text": [
      "C:\\Users\\ASUS\\anaconda3\\lib\\site-packages\\pandas\\util\\_decorators.py:311: SettingWithCopyWarning: \n",
      "A value is trying to be set on a copy of a slice from a DataFrame\n",
      "\n",
      "See the caveats in the documentation: https://pandas.pydata.org/pandas-docs/stable/user_guide/indexing.html#returning-a-view-versus-a-copy\n",
      "  return func(*args, **kwargs)\n"
     ]
    },
    {
     "name": "stdout",
     "output_type": "stream",
     "text": [
      "Анализ точки 1182.0\n",
      "AxesSubplot(0.125,0.125;0.775x0.755)\n",
      "AxesSubplot(0.125,0.125;0.775x0.755)\n",
      "1182.0\n"
     ]
    },
    {
     "data": {
      "image/png": "[encoded data removed]",
      "text/plain": [
       "<Figure size 432x288 with 1 Axes>"
      ]
     },
     "metadata": {
      "needs_background": "light"
     },
     "output_type": "display_data"
    },
    {
     "name": "stderr",
     "output_type": "stream",
     "text": [
      "C:\\Users\\ASUS\\anaconda3\\lib\\site-packages\\pandas\\util\\_decorators.py:311: SettingWithCopyWarning: \n",
      "A value is trying to be set on a copy of a slice from a DataFrame\n",
      "\n",
      "See the caveats in the documentation: https://pandas.pydata.org/pandas-docs/stable/user_guide/indexing.html#returning-a-view-versus-a-copy\n",
      "  return func(*args, **kwargs)\n"
     ]
    },
    {
     "name": "stdout",
     "output_type": "stream",
     "text": [
      "Результат теста Стьюдента\n",
      "Нулевая гипотеза о равенстве средних не принимается\n",
      "Результат теста Манна-Уитни\n",
      "Статистика = 393479.5, p_value = 1.1124584663860242e-17\n",
      "Распределения не равны\n",
      "Анализ точки 1178.0\n",
      "AxesSubplot(0.125,0.125;0.775x0.755)\n",
      "AxesSubplot(0.125,0.125;0.775x0.755)\n",
      "1178.0\n"
     ]
    },
    {
     "data": {
      "image/png": "[encoded data removed]",
      "text/plain": [
       "<Figure size 432x288 with 1 Axes>"
      ]
     },
     "metadata": {
      "needs_background": "light"
     },
     "output_type": "display_data"
    },
    {
     "name": "stderr",
     "output_type": "stream",
     "text": [
      "C:\\Users\\ASUS\\anaconda3\\lib\\site-packages\\pandas\\util\\_decorators.py:311: SettingWithCopyWarning: \n",
      "A value is trying to be set on a copy of a slice from a DataFrame\n",
      "\n",
      "See the caveats in the documentation: https://pandas.pydata.org/pandas-docs/stable/user_guide/indexing.html#returning-a-view-versus-a-copy\n",
      "  return func(*args, **kwargs)\n"
     ]
    },
    {
     "name": "stdout",
     "output_type": "stream",
     "text": [
      "Результат теста Стьюдента\n",
      "Нулевая гипотеза о равенстве средних принимается\n",
      "Результат теста Манна-Уитни\n",
      "Статистика = 3122337.5, p_value = 1.726831770480401e-06\n",
      "Распределения не равны\n",
      "Анализ точки 1179.0\n",
      "AxesSubplot(0.125,0.125;0.775x0.755)\n",
      "AxesSubplot(0.125,0.125;0.775x0.755)\n",
      "1179.0\n"
     ]
    },
    {
     "data": {
      "image/png": "[encoded data removed]",
      "text/plain": [
       "<Figure size 432x288 with 1 Axes>"
      ]
     },
     "metadata": {
      "needs_background": "light"
     },
     "output_type": "display_data"
    },
    {
     "name": "stdout",
     "output_type": "stream",
     "text": [
      "Результат теста Стьюдента\n",
      "Нулевая гипотеза о равенстве средних принимается\n",
      "Результат теста Манна-Уитни\n",
      "Статистика = 1480894.5, p_value = 0.3990241720224209\n",
      "Распределения равны\n",
      "Анализ точки nan\n",
      "AxesSubplot(0.125,0.125;0.775x0.755)\n",
      "AxesSubplot(0.125,0.125;0.775x0.755)\n",
      "nan\n"
     ]
    },
    {
     "name": "stderr",
     "output_type": "stream",
     "text": [
      "C:\\Users\\ASUS\\anaconda3\\lib\\site-packages\\pandas\\util\\_decorators.py:311: SettingWithCopyWarning: \n",
      "A value is trying to be set on a copy of a slice from a DataFrame\n",
      "\n",
      "See the caveats in the documentation: https://pandas.pydata.org/pandas-docs/stable/user_guide/indexing.html#returning-a-view-versus-a-copy\n",
      "  return func(*args, **kwargs)\n"
     ]
    },
    {
     "data": {
      "image/png": "[encoded data removed]",
      "text/plain": [
       "<Figure size 432x288 with 1 Axes>"
      ]
     },
     "metadata": {
      "needs_background": "light"
     },
     "output_type": "display_data"
    },
    {
     "name": "stdout",
     "output_type": "stream",
     "text": [
      "Анализ точки 1186.0\n",
      "AxesSubplot(0.125,0.125;0.775x0.755)\n",
      "AxesSubplot(0.125,0.125;0.775x0.755)\n",
      "1186.0\n"
     ]
    },
    {
     "data": {
      "image/png": "[encoded data removed]",
      "text/plain": [
       "<Figure size 432x288 with 1 Axes>"
      ]
     },
     "metadata": {
      "needs_background": "light"
     },
     "output_type": "display_data"
    },
    {
     "name": "stderr",
     "output_type": "stream",
     "text": [
      "C:\\Users\\ASUS\\anaconda3\\lib\\site-packages\\pandas\\util\\_decorators.py:311: SettingWithCopyWarning: \n",
      "A value is trying to be set on a copy of a slice from a DataFrame\n",
      "\n",
      "See the caveats in the documentation: https://pandas.pydata.org/pandas-docs/stable/user_guide/indexing.html#returning-a-view-versus-a-copy\n",
      "  return func(*args, **kwargs)\n"
     ]
    },
    {
     "name": "stdout",
     "output_type": "stream",
     "text": [
      "Результат теста Стьюдента\n",
      "Нулевая гипотеза о равенстве средних принимается\n",
      "Результат теста Манна-Уитни\n",
      "Статистика = 553.0, p_value = 0.18665794088873022\n",
      "Распределения равны\n",
      "Анализ точки 1188.0\n",
      "AxesSubplot(0.125,0.125;0.775x0.755)\n",
      "AxesSubplot(0.125,0.125;0.775x0.755)\n",
      "1188.0\n"
     ]
    },
    {
     "data": {
      "image/png": "[encoded data removed]",
      "text/plain": [
       "<Figure size 432x288 with 1 Axes>"
      ]
     },
     "metadata": {
      "needs_background": "light"
     },
     "output_type": "display_data"
    },
    {
     "name": "stderr",
     "output_type": "stream",
     "text": [
      "C:\\Users\\ASUS\\anaconda3\\lib\\site-packages\\pandas\\util\\_decorators.py:311: SettingWithCopyWarning: \n",
      "A value is trying to be set on a copy of a slice from a DataFrame\n",
      "\n",
      "See the caveats in the documentation: https://pandas.pydata.org/pandas-docs/stable/user_guide/indexing.html#returning-a-view-versus-a-copy\n",
      "  return func(*args, **kwargs)\n"
     ]
    }
   ],
   "source": [
    "control = skycross_experiment[skycross_experiment['id_group'] == 'control']\n",
    "test = skycross_experiment[skycross_experiment['id_group'] == 'test']\n",
    "\n",
    "for point in skycross_experiment['id_point'].unique():\n",
    "    print ('Анализ точки', point)\n",
    "\n",
    "    df_loc_control = control[control['id_point'] == point]\n",
    "    df_loc_test = test[test['id_point'] == point]\n",
    "    \n",
    "    show_hist(df_loc_control['sum_pay'], df_loc_test['sum_pay'])\n",
    "    print(point)\n",
    "    plt.show()\n",
    "    \n",
    "    df_loc_control.dropna(inplace = True)\n",
    "    df_loc_test.dropna(inplace = True)\n",
    "    if df_loc_control['sum_pay'].size > 5 and df_loc_test['sum_pay'].size > 5:\n",
    "        print('Результат теста Стьюдента')\n",
    "        test_calc(df_loc_control['sum_pay'], df_loc_test['sum_pay'])\n",
    "        print('Результат теста Манна-Уитни')\n",
    "        mann_whitney_func(df_loc_control['sum_pay'], df_loc_test['sum_pay'])"
   ]
  },
  {
   "cell_type": "markdown",
   "id": "3861f0bb",
   "metadata": {},
   "source": [
    "## Выводы:\n",
    "\n",
    "По точке 1199.0 имеются данные только по тестовой группе, контрольных результатов нет, \n",
    "сделать вывод об активности пользователей и успехе теста невозможно\n",
    "\n",
    "В точке 1182.0 эксперимент показал себя успешно, пользователи проявили активность в время акции\n",
    "\n",
    "Анализ точки 1178.0 показал, что экперимент не привел к значительному увеличению продаж\n",
    "\n",
    "Анализ точки 1179.0 показал, что эксперимент не привел к увеличению продаж\n",
    "\n",
    "Анализ точки 1186.0 показал, что эксперимент не привел к увеличению продаж\n",
    "\n",
    "Анализ точки 1188.0 показал, что данных по эксперименту недостаточно, \n",
    "сделать вывод об активности пользователей и успехе теста невозможно"
   ]
  },
  {
   "cell_type": "code",
   "execution_count": 21,
   "id": "12b45b12",
   "metadata": {},
   "outputs": [],
   "source": [
    "def proxi_ranges (r1, r2, alpha=0.05):\n",
    "#     Дисперсии и ковариации рядов\n",
    "    disp_x1 = r1.var()\n",
    "    disp_x2 = r2.var()\n",
    "    cov_x1 = np.cov(r1)\n",
    "    cov_x2 = np.cov(r2)\n",
    "    print(f'Ковариация ряда 1 = {cov_x1}, Ковариация ряда 2 = {cov_x2}')    \n",
    "    print(f'Дисперсия ряда 1 = {disp_x1}, Дисперсия ряда 2 = {disp_x2}')  \n",
    "#     Корреляции Пирсона и Спирмена\n",
    "    a, pvalue_1 = pearsonr(r1, r2)\n",
    "    b, pvalue_2 = spearmanr(r1, r2)\n",
    "    if pvalue_1 < alpha:\n",
    "        print ('Корреляция Пирсона равна 0')\n",
    "    elif a < 0.3:\n",
    "        print ('Слабая корреляция Пирсона')\n",
    "    elif a >= 0.3 and a <= 0.7:\n",
    "        print ('Средняя корреляция Пирсона')\n",
    "    else:\n",
    "        print ('Сильная корреляция Пирсона')\n",
    "    print(a, pvalue_1)\n",
    "#     Результаты анализа корреляции Спирмена\n",
    "    if pvalue_2 < alpha:\n",
    "        print ('Корреляция Спирмена равна 0')\n",
    "    elif b < 0.3:\n",
    "        print ('Слабая корреляция Спирмена')\n",
    "    elif b >= 0.3 and b <= 0.7:\n",
    "        print ('Средняя корреляция Спирмена')\n",
    "    else:\n",
    "        print ('Сильная корреляция Спирмена')\n",
    "    print(b, pvalue_2)"
   ]
  },
  {
   "cell_type": "code",
   "execution_count": 31,
   "id": "cd605a97",
   "metadata": {},
   "outputs": [
    {
     "name": "stdout",
     "output_type": "stream",
     "text": [
      "Ковариация ряда 1 = 50758347.6, Ковариация ряда 2 = 16.400000000000002\n",
      "Дисперсия ряда 1 = 50758347.6, Дисперсия ряда 2 = 16.4\n",
      "Средняя корреляция Пирсона\n",
      "0.6551508176832866 0.15787654015956243\n",
      "Корреляция Спирмена равна 0\n",
      "0.8116794499134279 0.04985758510134035\n"
     ]
    },
    {
     "data": {
      "text/plain": [
       "<AxesSubplot:xlabel='sum_pay', ylabel='months_reg'>"
      ]
     },
     "execution_count": 31,
     "metadata": {},
     "output_type": "execute_result"
    },
    {
     "data": {
      "image/png": "[encoded data removed]",
      "text/plain": [
       "<Figure size 1080x540 with 1 Axes>"
      ]
     },
     "metadata": {
      "needs_background": "light"
     },
     "output_type": "display_data"
    }
   ],
   "source": [
    "proxi_ranges (df_loc_control['sum_pay'], df_loc_control['months_reg'])\n",
    "\n",
    "plt.figure(figsize = (15,7.5))\n",
    "sns.scatterplot(x = df_loc_control['sum_pay'],\n",
    "               y = df_loc_control['months_reg'])"
   ]
  },
  {
   "cell_type": "code",
   "execution_count": 33,
   "id": "6452e5fa",
   "metadata": {},
   "outputs": [
    {
     "name": "stdout",
     "output_type": "stream",
     "text": [
      "Ковариация ряда 1 = 2220118.0, Ковариация ряда 2 = 1.6666666666666665\n",
      "Дисперсия ряда 1 = 2220118.0, Дисперсия ряда 2 = 1.6666666666666667\n",
      "Средняя корреляция Пирсона\n",
      "0.6195015361732203 0.38049846382677965\n",
      "Средняя корреляция Спирмена\n",
      "0.6000000000000001 0.3999999999999999\n"
     ]
    },
    {
     "data": {
      "text/plain": [
       "<AxesSubplot:xlabel='sum_pay', ylabel='months_reg'>"
      ]
     },
     "execution_count": 33,
     "metadata": {},
     "output_type": "execute_result"
    },
    {
     "data": {
      "image/png": "[encoded data removed]",
      "text/plain": [
       "<Figure size 1080x540 with 1 Axes>"
      ]
     },
     "metadata": {
      "needs_background": "light"
     },
     "output_type": "display_data"
    }
   ],
   "source": [
    "proxi_ranges (df_loc_test['sum_pay'], df_loc_test['months_reg'])\n",
    "\n",
    "plt.figure(figsize = (15,7.5))\n",
    "sns.scatterplot(x = df_loc_test['sum_pay'],\n",
    "               y = df_loc_test['months_reg'])"
   ]
  },
  {
   "cell_type": "markdown",
   "id": "5e14a52b",
   "metadata": {},
   "source": [
    "## Вывод\n",
    "\n",
    "Лояльность и интерес клиентов к акции связаны с длительностью регистрации, \n",
    "но эта связь не смогла обеспечить высокие результаты эксперимента\n",
    "\n",
    "# Внедрение изменений в программу лояльности не рекомендовано"
   ]
  }
 ],
 "metadata": {
  "kernelspec": {
   "display_name": "Python 3 (ipykernel)",
   "language": "python",
   "name": "python3"
  },
  "language_info": {
   "codemirror_mode": {
    "name": "ipython",
    "version": 3
   },
   "file_extension": ".py",
   "mimetype": "text/x-python",
   "name": "python",
   "nbconvert_exporter": "python",
   "pygments_lexer": "ipython3",
   "version": "3.9.7"
  }
 },
 "nbformat": 4,
 "nbformat_minor": 5
}
